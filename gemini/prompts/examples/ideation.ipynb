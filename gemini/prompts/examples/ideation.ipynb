{
  "cells": [
    {
      "cell_type": "markdown",
      "metadata": {
        "id": "view-in-github",
        "colab_type": "text"
      },
      "source": [
        "<a href=\"https://colab.research.google.com/github/dcmutlu/gemma-cookbook/blob/main/gemini/prompts/examples/ideation.ipynb\" target=\"_parent\"><img src=\"https://colab.research.google.com/assets/colab-badge.svg\" alt=\"Open In Colab\"/></a>"
      ]
    },
    {
      "cell_type": "code",
      "execution_count": null,
      "metadata": {
        "id": "ur8xi4C7S06n"
      },
      "outputs": [],
      "source": [
        "# Copyright 2024 Google LLC\n",
        "#\n",
        "# Licensed under the Apache License, Version 2.0 (the \"License\");\n",
        "# you may not use this file except in compliance with the License.\n",
        "# You may obtain a copy of the License at\n",
        "#\n",
        "#     https://www.apache.org/licenses/LICENSE-2.0\n",
        "#\n",
        "# Unless required by applicable law or agreed to in writing, software\n",
        "# distributed under the License is distributed on an \"AS IS\" BASIS,\n",
        "# WITHOUT WARRANTIES OR CONDITIONS OF ANY KIND, either express or implied.\n",
        "# See the License for the specific language governing permissions and\n",
        "# limitations under the License."
      ]
    },
    {
      "cell_type": "markdown",
      "metadata": {
        "id": "JAPoU8Sm5E6e"
      },
      "source": [
        "# Ideation with Generative Models on Vertex AI\n",
        "\n",
        "<table align=\"left\">\n",
        "  <td style=\"text-align: center\">\n",
        "    <a href=\"https://colab.research.google.com/github/GoogleCloudPlatform/generative-ai/blob/main/gemini/prompts/examples/ideation.ipynb\">\n",
        "      <img src=\"https://cloud.google.com/ml-engine/images/colab-logo-32px.png\" alt=\"Google Colaboratory logo\"><br> Open in Colab\n",
        "    </a>\n",
        "  </td>\n",
        "  <td style=\"text-align: center\">\n",
        "    <a href=\"https://console.cloud.google.com/vertex-ai/colab/import/https:%2F%2Fraw.githubusercontent.com%2FGoogleCloudPlatform%2Fgenerative-ai%2Fmain%2Fgemini%2Fprompts%2Fexamples%2Fideation.ipynb\">\n",
        "      <img width=\"32px\" src=\"https://lh3.googleusercontent.com/JmcxdQi-qOpctIvWKgPtrzZdJJK-J3sWE1RsfjZNwshCFgE_9fULcNpuXYTilIR2hjwN\" alt=\"Google Cloud Colab Enterprise logo\"><br> Open in Colab Enterprise\n",
        "    </a>\n",
        "  </td>    \n",
        "  <td style=\"text-align: center\">\n",
        "    <a href=\"https://console.cloud.google.com/vertex-ai/workbench/deploy-notebook?download_url=https://raw.githubusercontent.com/GoogleCloudPlatform/generative-ai/main/gemini/prompts/examples/ideation.ipynb\">\n",
        "      <img src=\"https://lh3.googleusercontent.com/UiNooY4LUgW_oTvpsNhPpQzsstV5W8F7rYgxgGBD85cWJoLmrOzhVs_ksK_vgx40SHs7jCqkTkCk=e14-rj-sc0xffffff-h130-w32\" alt=\"Vertex AI logo\"><br> Open in Workbench\n",
        "    </a>\n",
        "  </td>\n",
        "  <td style=\"text-align: center\">\n",
        "    <a href=\"https://github.com/GoogleCloudPlatform/generative-ai/blob/main/gemini/prompts/examples/ideation.ipynb\">\n",
        "      <img src=\"https://cloud.google.com/ml-engine/images/github-logo-32px.png\" alt=\"GitHub logo\"><br> View on GitHub\n",
        "    </a>\n",
        "  </td>\n",
        "</table>\n",
        "\n",
        "<div style=\"clear: both;\"></div>\n",
        "\n",
        "<b>Share to:</b>\n",
        "\n",
        "<a href=\"https://www.linkedin.com/sharing/share-offsite/?url=https%3A//github.com/GoogleCloudPlatform/generative-ai/blob/main/gemini/prompts/examples/ideation.ipynb\" target=\"_blank\">\n",
        "  <img width=\"20px\" src=\"https://upload.wikimedia.org/wikipedia/commons/8/81/LinkedIn_icon.svg\" alt=\"LinkedIn logo\">\n",
        "</a>\n",
        "\n",
        "<a href=\"https://bsky.app/intent/compose?text=https%3A//github.com/GoogleCloudPlatform/generative-ai/blob/main/gemini/prompts/examples/ideation.ipynb\" target=\"_blank\">\n",
        "  <img width=\"20px\" src=\"https://upload.wikimedia.org/wikipedia/commons/7/7a/Bluesky_Logo.svg\" alt=\"Bluesky logo\">\n",
        "</a>\n",
        "\n",
        "<a href=\"https://twitter.com/intent/tweet?url=https%3A//github.com/GoogleCloudPlatform/generative-ai/blob/main/gemini/prompts/examples/ideation.ipynb\" target=\"_blank\">\n",
        "  <img width=\"20px\" src=\"https://upload.wikimedia.org/wikipedia/commons/5/53/X_logo_2023_original.svg\" alt=\"X logo\">\n",
        "</a>\n",
        "\n",
        "<a href=\"https://reddit.com/submit?url=https%3A//github.com/GoogleCloudPlatform/generative-ai/blob/main/gemini/prompts/examples/ideation.ipynb\" target=\"_blank\">\n",
        "  <img width=\"20px\" src=\"https://redditinc.com/hubfs/Reddit%20Inc/Brand/Reddit_Logo.png\" alt=\"Reddit logo\">\n",
        "</a>\n",
        "\n",
        "<a href=\"https://www.facebook.com/sharer/sharer.php?u=https%3A//github.com/GoogleCloudPlatform/generative-ai/blob/main/gemini/prompts/examples/ideation.ipynb\" target=\"_blank\">\n",
        "  <img width=\"20px\" src=\"https://upload.wikimedia.org/wikipedia/commons/5/51/Facebook_f_logo_%282019%29.svg\" alt=\"Facebook logo\">\n",
        "</a>            "
      ]
    },
    {
      "cell_type": "markdown",
      "metadata": {
        "id": "84f0f73a0f76"
      },
      "source": [
        "| | | |\n",
        "|-|-|-|\n",
        "|Author(s) | [Polong Lin](https://github.com/polong-lin) | [Karl Weinmeister](https://github.com/kweinmeister)|"
      ]
    },
    {
      "cell_type": "markdown",
      "metadata": {
        "id": "tvgnzT1CKxrO"
      },
      "source": [
        "## Overview\n",
        "\n",
        "Ideation is the creative process of generating, developing, and communicating new ideas. It is a key part of the design thinking process, and can be used to solve problems, come up with new products or services, or other creative tasks.\n",
        "\n",
        "Generative models are a powerful tool that can be used to boost creativity and innovation. By learning how to use them effectively, you can improve your ability to come up with new ideas and solutions to problems. A key part in this is learning how to structure prompts to use generative models for ideation tasks.\n",
        "\n",
        "Learn more about prompt design in the [official documentation](https://cloud.google.com/vertex-ai/docs/generative-ai/text/text-overview#prompt_structure).\n",
        "\n",
        "### Objective\n",
        "\n",
        "In this tutorial, you will learn how to use generative models from the Vertex AI SDK to accelerate the ideation process by working through the following examples:\n",
        "- Marketing campaign generation\n",
        "- Creating reading comprehension questions\n",
        "- Meme generation\n",
        "- Interview question generation\n",
        "- Name generation\n",
        "- General tips and advice\n",
        "- Generating answers through \"impersonation\""
      ]
    },
    {
      "cell_type": "markdown",
      "metadata": {
        "id": "61RBz8LLbxCR"
      },
      "source": [
        "## Getting Started"
      ]
    },
    {
      "cell_type": "markdown",
      "metadata": {
        "id": "No17Cw5hgx12"
      },
      "source": [
        "### Install Vertex AI SDK and other required packages\n"
      ]
    },
    {
      "cell_type": "code",
      "execution_count": 1,
      "metadata": {
        "id": "tFy3H3aPgx12",
        "outputId": "361cf860-11f5-48b0-dc3b-0e9f2e4df79c",
        "colab": {
          "base_uri": "https://localhost:8080/"
        }
      },
      "outputs": [
        {
          "output_type": "stream",
          "name": "stdout",
          "text": [
            "\u001b[?25l   \u001b[90m━━━━━━━━━━━━━━━━━━━━━━━━━━━━━━━━━━━━━━━━\u001b[0m \u001b[32m0.0/6.9 MB\u001b[0m \u001b[31m?\u001b[0m eta \u001b[36m-:--:--\u001b[0m\r\u001b[2K   \u001b[91m━━━━━━━━━━━━━━━━━━━━━━━━━━━━━\u001b[0m\u001b[90m╺\u001b[0m\u001b[90m━━━━━━━━━━\u001b[0m \u001b[32m5.0/6.9 MB\u001b[0m \u001b[31m151.6 MB/s\u001b[0m eta \u001b[36m0:00:01\u001b[0m\r\u001b[2K   \u001b[91m━━━━━━━━━━━━━━━━━━━━━━━━━━━━━━━━━━━━━━━\u001b[0m\u001b[91m╸\u001b[0m \u001b[32m6.9/6.9 MB\u001b[0m \u001b[31m153.0 MB/s\u001b[0m eta \u001b[36m0:00:01\u001b[0m\r\u001b[2K   \u001b[90m━━━━━━━━━━━━━━━━━━━━━━━━━━━━━━━━━━━━━━━━\u001b[0m \u001b[32m6.9/6.9 MB\u001b[0m \u001b[31m88.6 MB/s\u001b[0m eta \u001b[36m0:00:00\u001b[0m\n",
            "\u001b[?25h\u001b[?25l   \u001b[90m━━━━━━━━━━━━━━━━━━━━━━━━━━━━━━━━━━━━━━━━\u001b[0m \u001b[32m0.0/457.3 kB\u001b[0m \u001b[31m?\u001b[0m eta \u001b[36m-:--:--\u001b[0m\r\u001b[2K   \u001b[90m━━━━━━━━━━━━━━━━━━━━━━━━━━━━━━━━━━━━━━━━\u001b[0m \u001b[32m457.3/457.3 kB\u001b[0m \u001b[31m34.9 MB/s\u001b[0m eta \u001b[36m0:00:00\u001b[0m\n",
            "\u001b[2K   \u001b[90m━━━━━━━━━━━━━━━━━━━━━━━━━━━━━━━━━━━━━━━━\u001b[0m \u001b[32m1.8/1.8 MB\u001b[0m \u001b[31m66.1 MB/s\u001b[0m eta \u001b[36m0:00:00\u001b[0m\n",
            "\u001b[2K   \u001b[90m━━━━━━━━━━━━━━━━━━━━━━━━━━━━━━━━━━━━━━━━\u001b[0m \u001b[32m12.3/12.3 MB\u001b[0m \u001b[31m88.8 MB/s\u001b[0m eta \u001b[36m0:00:00\u001b[0m\n",
            "\u001b[2K   \u001b[90m━━━━━━━━━━━━━━━━━━━━━━━━━━━━━━━━━━━━━━━━\u001b[0m \u001b[32m356.5/356.5 kB\u001b[0m \u001b[31m25.7 MB/s\u001b[0m eta \u001b[36m0:00:00\u001b[0m\n",
            "\u001b[2K   \u001b[90m━━━━━━━━━━━━━━━━━━━━━━━━━━━━━━━━━━━━━━━━\u001b[0m \u001b[32m38.3/38.3 MB\u001b[0m \u001b[31m16.8 MB/s\u001b[0m eta \u001b[36m0:00:00\u001b[0m\n",
            "\u001b[2K   \u001b[90m━━━━━━━━━━━━━━━━━━━━━━━━━━━━━━━━━━━━━━━━\u001b[0m \u001b[32m1.6/1.6 MB\u001b[0m \u001b[31m66.0 MB/s\u001b[0m eta \u001b[36m0:00:00\u001b[0m\n",
            "\u001b[?25h\u001b[33m  WARNING: The script tb-gcp-uploader is installed in '/root/.local/bin' which is not on PATH.\n",
            "  Consider adding this directory to PATH or, if you prefer to suppress this warning, use --no-warn-script-location.\u001b[0m\u001b[33m\n",
            "\u001b[0m\u001b[31mERROR: pip's dependency resolver does not currently take into account all the packages that are installed. This behaviour is the source of the following dependency conflicts.\n",
            "google-colab 1.0.0 requires pandas==2.2.2, but you have pandas 2.1.3 which is incompatible.\n",
            "mizani 0.13.1 requires pandas>=2.2.0, but you have pandas 2.1.3 which is incompatible.\n",
            "plotnine 0.14.4 requires pandas>=2.2.0, but you have pandas 2.1.3 which is incompatible.\u001b[0m\u001b[31m\n",
            "\u001b[0m"
          ]
        }
      ],
      "source": [
        "%pip install --upgrade --user --quiet google-cloud-aiplatform \"bigframes<1\""
      ]
    },
    {
      "cell_type": "markdown",
      "metadata": {
        "id": "R5Xep4W9lq-Z"
      },
      "source": [
        "### Restart runtime (Colab only)\n",
        "\n",
        "To use the newly installed packages, you must restart the runtime on Google Colab."
      ]
    },
    {
      "cell_type": "code",
      "execution_count": 2,
      "metadata": {
        "id": "XRvKdaPDTznN"
      },
      "outputs": [],
      "source": [
        "import sys\n",
        "\n",
        "if \"google.colab\" in sys.modules:\n",
        "    import IPython\n",
        "\n",
        "    app = IPython.Application.instance()\n",
        "    app.kernel.do_shutdown(True)"
      ]
    },
    {
      "cell_type": "markdown",
      "metadata": {
        "id": "SbmM4z7FOBpM"
      },
      "source": [
        "<div class=\"alert alert-block alert-warning\">\n",
        "<b>⚠️ The kernel is going to restart. Please wait until it is finished before continuing to the next step. ⚠️</b>\n",
        "</div>\n"
      ]
    },
    {
      "cell_type": "markdown",
      "metadata": {
        "id": "dmWOrTJ3gx13"
      },
      "source": [
        "### Authenticate your notebook environment (Colab only)\n",
        "\n",
        "Authenticate your environment on Google Colab.\n"
      ]
    },
    {
      "cell_type": "code",
      "execution_count": 1,
      "metadata": {
        "id": "NyKGtVQjgx13"
      },
      "outputs": [],
      "source": [
        "import sys\n",
        "\n",
        "if \"google.colab\" in sys.modules:\n",
        "    from google.colab import auth\n",
        "\n",
        "    auth.authenticate_user()"
      ]
    },
    {
      "cell_type": "markdown",
      "metadata": {
        "id": "DF4l8DTdWgPY"
      },
      "source": [
        "### Set Google Cloud project information and initialize Vertex AI SDK"
      ]
    },
    {
      "cell_type": "code",
      "execution_count": 2,
      "metadata": {
        "id": "Nqwi-5ufWp_B"
      },
      "outputs": [],
      "source": [
        "PROJECT_ID = \"mlops-441813\"  # @param {type:\"string\"}\n",
        "LOCATION = \"us-central1\"  # @param {type:\"string\"}\n",
        "\n",
        "\n",
        "import vertexai\n",
        "\n",
        "vertexai.init(project=PROJECT_ID, location=LOCATION)"
      ]
    },
    {
      "cell_type": "code",
      "execution_count": 3,
      "metadata": {
        "id": "QqRWdPGmW3NJ"
      },
      "outputs": [],
      "source": [
        "from vertexai.generative_models import GenerationConfig, GenerativeModel"
      ]
    },
    {
      "cell_type": "markdown",
      "metadata": {
        "id": "OnFPpCRtXRl4"
      },
      "source": [
        "### Load model"
      ]
    },
    {
      "cell_type": "code",
      "execution_count": 4,
      "metadata": {
        "id": "IQYu_9SvXQah"
      },
      "outputs": [],
      "source": [
        "model = GenerativeModel(\"gemini-1.5-pro\")"
      ]
    },
    {
      "cell_type": "markdown",
      "metadata": {
        "id": "cVOtUNJ5X0PY"
      },
      "source": [
        "## Ideation Examples"
      ]
    },
    {
      "cell_type": "markdown",
      "metadata": {
        "id": "3Nn9FNJ0V7Mj"
      },
      "source": [
        "### Marketing campaign generation\n",
        "\n",
        "In this example, our generation example will involve the process of creating new cookie recipes. Let's see how this can be done using the Gemini API."
      ]
    },
    {
      "cell_type": "code",
      "execution_count": 5,
      "metadata": {
        "id": "JvTydUSfWAMt",
        "outputId": "58f76bc6-a8df-4163-83fc-62cf107efa7b",
        "colab": {
          "base_uri": "https://localhost:8080/"
        }
      },
      "outputs": [
        {
          "output_type": "stream",
          "name": "stdout",
          "text": [
            "## Style Your Values: A Sustainable Fashion Marketing Campaign\n",
            "\n",
            "**Target Audience:**  Eco-conscious millennials and Gen Z who are passionate about fashion but concerned about its environmental impact.\n",
            "\n",
            "**Campaign Goals:**\n",
            "\n",
            "* Increase awareness about the environmental impact of fast fashion.\n",
            "* Promote sustainable fashion alternatives and brands.\n",
            "* Encourage consumers to adopt more sustainable fashion habits.\n",
            "\n",
            "**Campaign Slogan:**  **Style Your Values. Choose Sustainable Fashion.**\n",
            "\n",
            "**Campaign Hashtags:** #StyleYourValues #SustainableFashion #EcoFashion #ConsciousCloset #WearTheChange\n",
            "\n",
            "**Campaign Elements:**\n",
            "\n",
            "**1.  Social Media Campaign:**\n",
            "\n",
            "* **Visually Engaging Content:** Utilize high-quality photos and videos showcasing stylish and sustainable clothing options. Feature diverse models and real people wearing sustainable brands.\n",
            "* **Informative Posts:** Share facts and statistics about the negative impact of fast fashion. Highlight the positive environmental and social benefits of sustainable fashion.\n",
            "* **Interactive Elements:** Host polls and quizzes about sustainable fashion knowledge. Run contests and giveaways featuring sustainable brands.\n",
            "* **Influencer Marketing:** Partner with fashion influencers and bloggers who advocate for sustainability.\n",
            "* **Shoppable Posts and Stories:** Make it easy for consumers to purchase sustainable items directly through social media platforms.\n",
            "\n",
            "**2.  Educational Blog Series:**\n",
            "\n",
            "* **\"The True Cost of Fast Fashion\"**:  Expose the environmental and ethical issues within the fast fashion industry.\n",
            "* **\"Sustainable Fashion 101\"**:  Provide a beginner's guide to understanding sustainable fabrics, certifications, and brands.\n",
            "* **\"Building a Conscious Closet\"**: Offer tips on thrifting, capsule wardrobes, clothing swaps, and caring for clothes to extend their lifespan.\n",
            "* **\"Spotlight on Sustainable Brands\"**: Feature interviews with designers and entrepreneurs behind ethical and eco-friendly fashion brands.\n",
            "\n",
            "**3.  Interactive Events and Workshops:**\n",
            "\n",
            "* **Clothing Swaps:** Organize events where people can exchange clothes and refresh their wardrobes sustainably.\n",
            "* **Upcycling Workshops:** Teach participants how to repair, repurpose, and transform old clothes into new pieces.\n",
            "* **Sustainable Fashion Shows:** Showcase collections from local and established sustainable designers.\n",
            "* **Panel Discussions:** Host conversations with experts in fashion, sustainability, and ethics.\n",
            "\n",
            "**4.  Partnerships and Collaborations:**\n",
            "\n",
            "* **Sustainable Fashion Brands:** Team up with brands to offer exclusive discounts and promotions to your audience.\n",
            "* **Non-Profit Organizations:** Collaborate with environmental and social justice organizations working to improve the fashion industry.\n",
            "* **Local Businesses:** Partner with thrift stores, consignment shops, and eco-friendly retailers to promote sustainable shopping options.\n",
            "\n",
            "**5.  Call to Action:**\n",
            "\n",
            "* Encourage your audience to take concrete actions:\n",
            "    * Shop less and choose sustainable brands.\n",
            "    * Learn about fabric choices and their impact.\n",
            "    * Repair, reuse, and upcycle clothing.\n",
            "    * Donate or responsibly dispose of unwanted clothes.\n",
            "    * Advocate for change within the fashion industry.\n",
            "\n",
            "**Campaign Measurement:**\n",
            "\n",
            "* Track social media engagement (likes, shares, comments).\n",
            "* Monitor website traffic and blog post views.\n",
            "* Measure event attendance and participation.\n",
            "* Analyze sales data for partner brands.\n",
            "* Conduct surveys to assess changes in consumer behavior and attitudes towards sustainable fashion.\n",
            "\n",
            "**By implementing this comprehensive marketing campaign, we can inspire and empower consumers to make more conscious choices and contribute to a more sustainable future for fashion.** \n",
            "\n"
          ]
        }
      ],
      "source": [
        "prompt = \"Generate a marketing campaign for sustainability and fashion\"\n",
        "\n",
        "generation_config = GenerationConfig(\n",
        "    temperature=0.2, max_output_tokens=1024, top_k=40, top_p=0.8\n",
        ")\n",
        "\n",
        "\n",
        "print(model.generate_content(prompt, generation_config=generation_config).text)"
      ]
    },
    {
      "cell_type": "markdown",
      "metadata": {
        "id": "cM1F6NdwWoM2"
      },
      "source": [
        "### Creating reading comprehension questions\n",
        "\n",
        "Reading comprehension tests are often used in schools and universities to assess a student's reading skills. You can use the Gemini API to generate some example questions to test a person's understanding of a provided passage of text."
      ]
    },
    {
      "cell_type": "code",
      "execution_count": 6,
      "metadata": {
        "id": "igIujp8qWnW-",
        "outputId": "a054511f-cfa4-48f2-af83-55007bd106b9",
        "colab": {
          "base_uri": "https://localhost:8080/"
        }
      },
      "outputs": [
        {
          "output_type": "stream",
          "name": "stdout",
          "text": [
            "Here are 5 questions to test comprehension of the text about the Amazon rainforest:\n",
            "\n",
            "1. **What two factors are believed to have contributed to the formation of the Amazon rainforest during the Eocene era?** (This tests understanding of the rainforest's origins)\n",
            "2. **Explain the two main opposing theories about how the Amazon rainforest was affected during the last glacial maximum.** (This tests comprehension of scientific debate within the text)\n",
            "3. **How does dust from the Sahara Desert contribute to the Amazon rainforest's ecosystem? What technology has been used to study this phenomenon?** (This tests understanding of interconnectedness and specific details)\n",
            "4. **Beyond Brazil, name three other countries that contain a significant portion of the Amazon rainforest.** (This tests recall of key facts and figures)\n",
            "5. **What is the significance of the statement that the Amazon rainforest \"comprises the largest and most biodiverse tract of tropical rainforest in the world\"?** (This tests understanding of the rainforest's global importance) \n",
            "\n"
          ]
        }
      ],
      "source": [
        "prompt = \"\"\"\n",
        "Generate 5 questions that test a reader's comprehension of the following text.\n",
        "\n",
        "Text:\n",
        "The Amazon rainforest, also called Amazon jungle or Amazonia, is a moist broadleaf tropical rainforest in the Amazon biome that covers most of the Amazon basin of South America. This basin encompasses 7,000,000 km2 (2,700,000 sq mi), of which 5,500,000 km2 (2,100,000 sq mi) are covered by the rainforest. This region includes territory belonging to nine nations and 3,344 formally acknowledged indigenous territories.\n",
        "\n",
        "The majority of the forest, 60%, is in Brazil, followed by Peru with 13%, Colombia with 10%, and with minor amounts in Bolivia, Ecuador, French Guiana, Guyana, Suriname, and Venezuela. Four nations have \"Amazonas\" as the name of one of their first-level administrative regions, and France uses the name \"Guiana Amazonian Park\" for French Guiana's protected rainforest area. The Amazon represents over half of the planet's remaining rainforests, and comprises the largest and most biodiverse tract of tropical rainforest in the world, with an estimated 390 billion individual trees in about 16,000 species.\n",
        "\n",
        "More than 30 million people of 350 different ethnic groups live in the Amazon, which are subdivided into 9 different national political systems and 3,344 formally acknowledged indigenous territories. Indigenous peoples make up 9% of the total population, and 60 of the groups remain largely isolated.\n",
        "\n",
        "The rainforest likely formed during the Eocene era (from 56 million years to 33.9 million years ago). It appeared following a global reduction of tropical temperatures when the Atlantic Ocean had widened sufficiently to provide a warm, moist climate to the Amazon basin. The rainforest has been in existence for at least 55 million years, and most of the region remained free of savanna-type biomes at least until the current ice age when the climate was drier and savanna more widespread.\n",
        "\n",
        "Following the Cretaceous–Paleogene extinction event, the extinction of the dinosaurs and the wetter climate may have allowed the tropical rainforest to spread out across the continent. From 66 to 34 Mya, the rainforest extended as far south as 45°. Climate fluctuations during the last 34 million years have allowed savanna regions to expand into the tropics. During the Oligocene, for example, the rainforest spanned a relatively narrow band. It expanded again during the Middle Miocene, then retracted to a mostly inland formation at the last glacial maximum. However, the rainforest still managed to thrive during these glacial periods, allowing for the survival and evolution of a broad diversity of species.\n",
        "\n",
        "Aerial view of the Amazon rainforest\n",
        "During the mid-Eocene, it is believed that the drainage basin of the Amazon was split along the middle of the continent by the Púrus Arch. Water on the eastern side flowed toward the Atlantic, while to the west water flowed toward the Pacific across the Amazonas Basin. As the Andes Mountains rose, however, a large basin was created that enclosed a lake; now known as the Solimões Basin. Within the last 5–10 million years, this accumulating water broke through the Púrus Arch, joining the easterly flow toward the Atlantic.\n",
        "\n",
        "There is evidence that there have been significant changes in the Amazon rainforest vegetation over the last 21,000 years through the last glacial maximum (LGM) and subsequent deglaciation. Analyses of sediment deposits from Amazon basin paleolakes and the Amazon Fan indicate that rainfall in the basin during the LGM was lower than for the present, and this was almost certainly associated with reduced moist tropical vegetation cover in the basin. In present day, the Amazon receives approximately 9 feet of rainfall annually. There is a debate, however, over how extensive this reduction was. Some scientists argue that the rainforest was reduced to small, isolated refugia separated by open forest and grassland; other scientists argue that the rainforest remained largely intact but extended less far to the north, south, and east than is seen today. This debate has proved difficult to resolve because the practical limitations of working in the rainforest mean that data sampling is biased away from the center of the Amazon basin, and both explanations are reasonably well supported by the available data.\n",
        "\n",
        "Sahara Desert dust windblown to the Amazon\n",
        "More than 56% of the dust fertilizing the Amazon rainforest comes from the Bodélé depression in Northern Chad in the Sahara desert. The dust contains phosphorus, important for plant growth. The yearly Sahara dust replaces the equivalent amount of phosphorus washed away yearly in Amazon soil from rains and floods.\n",
        "\n",
        "NASA's CALIPSO satellite has measured the amount of dust transported by wind from the Sahara to the Amazon: an average of 182 million tons of dust are windblown out of the Sahara each year, at 15 degrees west longitude, across 2,600 km (1,600 mi) over the Atlantic Ocean (some dust falls into the Atlantic), then at 35 degrees West longitude at the eastern coast of South America, 27.7 million tons (15%) of dust fall over the Amazon basin (22 million tons of it consisting of phosphorus), 132 million tons of dust remain in the air, 43 million tons of dust are windblown and falls on the Caribbean Sea, past 75 degrees west longitude.\n",
        "\n",
        "CALIPSO uses a laser range finder to scan the Earth's atmosphere for the vertical distribution of dust and other aerosols. CALIPSO regularly tracks the Sahara-Amazon dust plume. CALIPSO has measured variations in the dust amounts transported – an 86 percent drop between the highest amount of dust transported in 2007 and the lowest in 2011.\n",
        "A possibility causing the variation is the Sahel, a strip of semi-arid land on the southern border of the Sahara. When rain amounts in the Sahel are higher, the volume of dust is lower. The higher rainfall could make more vegetation grow in the Sahel, leaving less sand exposed to winds to blow away.[25]\n",
        "\n",
        "Amazon phosphorus also comes as smoke due to biomass burning in Africa.\n",
        "\n",
        "Questions:\n",
        "\"\"\"\n",
        "\n",
        "print(model.generate_content(prompt, generation_config=generation_config).text)"
      ]
    },
    {
      "cell_type": "markdown",
      "metadata": {
        "id": "yKF0BORiW1ma"
      },
      "source": [
        "### Meme generation\n",
        "\n",
        "A more lighthearted text generation example is to generate memes based on a certain topic."
      ]
    },
    {
      "cell_type": "code",
      "execution_count": 7,
      "metadata": {
        "id": "l-BSYqZZWAJ2",
        "outputId": "863bc9f8-9030-4e82-aba5-3c6ab4994ce9",
        "colab": {
          "base_uri": "https://localhost:8080/"
        }
      },
      "outputs": [
        {
          "output_type": "stream",
          "name": "stdout",
          "text": [
            "## 5 Dog Meme Ideas:\n",
            "\n",
            "1. **\"Me trying to explain to my dog why I can't throw the ball right now.\"**\n",
            "    * **Image:** Dog staring intently at a human who is clearly busy (e.g., working on a laptop, cooking, on a phone call). \n",
            "    * **Caption Options:**\n",
            "        * \"He just doesn't get it.\"\n",
            "        * \"The guilt trip is real.\"\n",
            "        * \"But...ball?\"\n",
            "\n",
            "2. **\"When you accidentally step on your dog's tail.\"**\n",
            "    * **Image:** Two-panel meme. First panel: happy dog. Second panel: dog with wide, shocked eyes and a slightly open mouth.\n",
            "    * **Caption Options:**\n",
            "        * \"The betrayal.\"\n",
            "        * \"My life flashed before my eyes.\"\n",
            "        * \"And the Oscar for best dramatic performance goes to...\"\n",
            "\n",
            "3. **\"Dogs and vegetables: a love story.\"**\n",
            "    * **Image:** Dog dramatically turning its head away from a piece of broccoli being offered to it.\n",
            "    * **Caption Options:**\n",
            "        * \"We're not even speaking the same language.\"\n",
            "        * \"Is this some kind of joke?\"\n",
            "        * \"My ancestors are judging me.\"\n",
            "\n",
            "4. **\"The stages of going for a walk.\"**\n",
            "    * **Image:** Four-panel meme showing the progression:\n",
            "        * Panel 1: Dog sleeping peacefully.\n",
            "        * Panel 2: Dog's ears perk up at the sound of the leash.\n",
            "        * Panel 3: Dog excitedly running in circles.\n",
            "        * Panel 4: Dog patiently sitting by the door, leash in mouth.\n",
            "    * **Caption:** \"From 0 to 100 real quick.\"\n",
            "\n",
            "5. **\"My dog is my best friend because...\"**\n",
            "    * **Image:** Heartwarming photo of a dog cuddling with its owner.\n",
            "    * **Caption Options:**\n",
            "        * \"They don't judge my questionable life choices.\"\n",
            "        * \"They're always down for a nap.\"\n",
            "        * \"They have the best smiles.\" \n",
            "        * \"Unconditional love is the best kind of love.\" \n",
            "\n"
          ]
        }
      ],
      "source": [
        "prompt = \"Give me 5 dog meme ideas:\"\n",
        "\n",
        "print(model.generate_content(prompt, generation_config=generation_config).text)"
      ]
    },
    {
      "cell_type": "markdown",
      "metadata": {
        "id": "LuLzRzyKW-5_"
      },
      "source": [
        "### Interview question generation\n",
        "\n",
        "Whether you are the interviewer or interviewee, having some sample interview questions you can work with can be very helpful in job interviews. Below we use the Gemini API to help us generate some potential interview questions for a particular role."
      ]
    },
    {
      "cell_type": "code",
      "execution_count": 8,
      "metadata": {
        "id": "mVd0vBISWAHQ",
        "outputId": "b0caf90a-a969-40fc-a57f-e21feb779a43",
        "colab": {
          "base_uri": "https://localhost:8080/"
        }
      },
      "outputs": [
        {
          "output_type": "stream",
          "name": "stdout",
          "text": [
            "## Prompt Engineer Interview Questions:\n",
            "\n",
            "**Technical Skills & Understanding:**\n",
            "\n",
            "1. **Explain the concept of \"prompt engineering\" and its importance in working with large language models (LLMs).** (Assesses basic understanding)\n",
            "2. **Describe a time you had to optimize a prompt to achieve a specific output from an LLM. What strategies did you use?** (Evaluates practical experience and problem-solving)\n",
            "3. **What are some common pitfalls to avoid when crafting prompts for LLMs?** (Tests knowledge of best practices and potential issues)\n",
            "4. **How do you measure the effectiveness of a prompt? What metrics do you consider?** (Assesses understanding of evaluation and optimization)\n",
            "5. **How can you leverage few-shot learning and fine-tuning techniques to improve the performance of prompts?** (Evaluates knowledge of advanced techniques)\n",
            "\n",
            "**Problem-Solving & Creativity:**\n",
            "\n",
            "6. **Imagine you need to create a prompt that generates creative story ideas for a children's book. How would you approach this task?** (Assesses creativity and ability to translate requirements into prompts)\n",
            "7. **You are tasked with building a chatbot that provides customer support for a technical product. What considerations would you have when designing prompts for this specific use case?** (Evaluates understanding of context and user experience)\n",
            "\n",
            "**Communication & Collaboration:**\n",
            "\n",
            "8. **How would you explain the capabilities and limitations of LLMs to someone with no technical background?** (Assesses communication skills and ability to bridge technical gaps)\n",
            "9. **Describe a time you had to collaborate with others to develop and refine prompts for a project.** (Evaluates teamwork and collaboration skills)\n",
            "\n",
            "**Adaptability & Learning:**\n",
            "\n",
            "10. **The field of LLMs is constantly evolving. How do you stay updated on the latest advancements and techniques in prompt engineering?** (Assesses commitment to learning and staying current in the field) \n",
            "\n"
          ]
        }
      ],
      "source": [
        "prompt = \"Give me ten interview questions for the role of prompt engineer.\"\n",
        "\n",
        "print(model.generate_content(prompt, generation_config=generation_config).text)"
      ]
    },
    {
      "cell_type": "markdown",
      "metadata": {
        "id": "X9f8b43bXFmo"
      },
      "source": [
        "### Name generation\n",
        "\n",
        "Name generation is useful in a variety of scenarios, such as creating new characters for a story or naming a new product or company. You can generate ideas for names of a specified entity using the Gemini API."
      ]
    },
    {
      "cell_type": "code",
      "execution_count": 9,
      "metadata": {
        "id": "1MDrhOcqWAEb",
        "outputId": "0f2fb6f9-b1a3-4202-9b24-8c759bc2701f",
        "colab": {
          "base_uri": "https://localhost:8080/"
        }
      },
      "outputs": [
        {
          "output_type": "stream",
          "name": "stdout",
          "text": [
            "Here are some names for a flower shop specializing in dried flowers, playing on themes of timelessness, vintage charm, and natural beauty:\n",
            "\n",
            "**Elegant & Classic:**\n",
            "\n",
            "* The Dried Bloom\n",
            "* Everlasting Florals\n",
            "* Timeless Petals\n",
            "* The Botanical Library\n",
            "* The Dried Flower Company\n",
            "* Vintage Flora\n",
            "\n",
            "**Whimsical & Romantic:**\n",
            "\n",
            "* Whispers of Spring\n",
            "* The Paper Garden\n",
            "* Moonbeam Botanicals\n",
            "* The Secret Garden\n",
            "* A Touch of Forever\n",
            "* The Dried Daisy\n",
            "\n",
            "**Modern & Minimalist:**\n",
            "\n",
            "* Evermore\n",
            "* Bloom & Dry\n",
            "* The Dried Arrangement\n",
            "* Terracotta & Thyme\n",
            "* The Floral Atelier\n",
            "* Bare Blooms\n",
            "\n",
            "**Unique & Location Specific:**\n",
            "\n",
            "* [Your City/Neighborhood] Dried Flower Co.\n",
            "* The [Local Landmark] Bloomery\n",
            "* [Your Name's] Dried Florals\n",
            "\n",
            "**Tips for Choosing the Perfect Name:**\n",
            "\n",
            "* **Keep it short and memorable.**\n",
            "* **Make sure it's easy to spell and pronounce.**\n",
            "* **Consider your target audience.**\n",
            "* **Check for available domain names and social media handles.**\n",
            "\n",
            "Ultimately, the best name for your flower shop will be one that you love and that reflects your unique brand and style. \n",
            "\n"
          ]
        }
      ],
      "source": [
        "prompt = \"What's a good name for a flower shop that specializes in selling bouquets of dried flowers?\"\n",
        "\n",
        "print(model.generate_content(prompt, generation_config=generation_config).text)"
      ]
    },
    {
      "cell_type": "markdown",
      "metadata": {
        "id": "3MRmbI8hXLhU"
      },
      "source": [
        "### General tips and advice\n",
        "\n",
        "Below is an example of using the Gemini API to get tips and advice on general topics."
      ]
    },
    {
      "cell_type": "code",
      "execution_count": 10,
      "metadata": {
        "id": "nZKHMzaAV_21",
        "outputId": "3b69d2d6-c94b-44f8-b654-3eba190629f8",
        "colab": {
          "base_uri": "https://localhost:8080/"
        }
      },
      "outputs": [
        {
          "output_type": "stream",
          "name": "stdout",
          "text": [
            "## Strategies for Overcoming Writer's Block:\n",
            "\n",
            "Writer's block can be frustrating, but it's important to remember that it's temporary. Here are some strategies to help you overcome it:\n",
            "\n",
            "**Shifting Your Perspective:**\n",
            "\n",
            "* **Freewriting:** Set a timer for 5-10 minutes and write whatever comes to mind, even if it's nonsense. Don't worry about grammar, spelling, or making sense. Just keep your fingers moving.\n",
            "* **Change your environment:**  Sometimes a change of scenery can do wonders. Try writing in a different room, at a coffee shop, or outside.\n",
            "* **Talk it out:** Discuss your ideas with a friend, colleague, or writing group. Talking about your work can help you clarify your thoughts and generate new ideas.\n",
            "* **Read:**  Pick up a book or article in your genre or on a topic that interests you.  Reading can spark new ideas and inspire you.\n",
            "\n",
            "**Tackling the Writing Process:**\n",
            "\n",
            "* **Start in the middle:**  You don't have to start at the beginning. If you're stuck on the introduction, jump to a section you're excited about.\n",
            "* **Break it down:**  Divide your writing task into smaller, more manageable chunks. This can make the task seem less daunting.\n",
            "* **Set realistic goals:**  Don't expect to write a masterpiece in one sitting. Set small, achievable goals for each writing session.\n",
            "* **Use prompts:**  Find writing prompts online or in books to jumpstart your creativity.\n",
            "* **Outline:**  If you're a planner, create an outline to organize your thoughts and give your writing direction.\n",
            "\n",
            "**Taking Care of Yourself:**\n",
            "\n",
            "* **Take breaks:**  Step away from your writing for a few minutes and do something else you enjoy. This will help you return to your work refreshed.\n",
            "* **Exercise:**  Physical activity can help clear your head and boost your creativity.\n",
            "* **Get enough sleep:**  When you're well-rested, you're better able to focus and be creative.\n",
            "* **Manage stress:**  Stress can contribute to writer's block. Find healthy ways to manage stress, such as meditation, yoga, or spending time in nature.\n",
            "\n",
            "**Remember:**\n",
            "\n",
            "* **Be patient:**  Writer's block is a normal part of the writing process. Don't get discouraged if you hit a wall.\n",
            "* **Give yourself permission to write badly:**  The first draft doesn't have to be perfect. Just get your ideas down on paper and worry about editing later.\n",
            "* **Celebrate small victories:**  Acknowledge and celebrate your accomplishments, no matter how small they may seem.\n",
            "\n",
            "By trying different strategies and finding what works best for you, you can overcome writer's block and get back to doing what you love: writing! \n",
            "\n"
          ]
        }
      ],
      "source": [
        "prompt = \"What are some strategies for overcoming writer's block?\"\n",
        "\n",
        "print(model.generate_content(prompt, generation_config=generation_config).text)"
      ]
    },
    {
      "cell_type": "markdown",
      "metadata": {
        "id": "0pY4XX0OX9_Y"
      },
      "source": [
        "### Generating answers through \"impersonation\"\n",
        "\n",
        "Below is an example for using the Gemini API to impersonating a pirate."
      ]
    },
    {
      "cell_type": "code",
      "execution_count": 11,
      "metadata": {
        "id": "4aTGv16pXWcA",
        "outputId": "4e6b5ac5-5675-48ee-f80a-f38d1f473528",
        "colab": {
          "base_uri": "https://localhost:8080/"
        }
      },
      "outputs": [
        {
          "output_type": "stream",
          "name": "stdout",
          "text": [
            "\"Soak up knowledge like a thirsty sponge, me hearty, for all eternity be a long time to be a dullard! But live yer life with a fire in yer belly, like the Kraken be chasin' yer tail, 'cause tomorrow be a treasure ye might not find!\" \n",
            "\n"
          ]
        }
      ],
      "source": [
        "prompt = \"\"\"You are a pirate. Take the following sentence and rephrase it as a pirate.\n",
        "'Learn as if you will live forever, live like you will die tomorrow.'\n",
        "\"\"\"\n",
        "\n",
        "print(model.generate_content(prompt, generation_config=generation_config).text)"
      ]
    }
  ],
  "metadata": {
    "colab": {
      "name": "ideation.ipynb",
      "toc_visible": true,
      "provenance": [],
      "include_colab_link": true
    },
    "kernelspec": {
      "display_name": "Python 3",
      "name": "python3"
    }
  },
  "nbformat": 4,
  "nbformat_minor": 0
}